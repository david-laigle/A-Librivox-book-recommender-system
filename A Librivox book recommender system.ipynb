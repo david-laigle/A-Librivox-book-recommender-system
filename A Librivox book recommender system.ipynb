{
 "cells": [
  {
   "cell_type": "markdown",
   "metadata": {},
   "source": [
    "# A Librivox book recommender system"
   ]
  },
  {
   "cell_type": "markdown",
   "metadata": {},
   "source": [
    "In this notebook, I will create a book recommender system using content-based filtering and the Librivox catalog. Librivox is a volunteer-run website producing audiobooks from public domain texts (https://librivox.org/).\n",
    "\n",
    "First, I gather data using the Librivox API, clean it and prepare it. Then, I create a TF–IDF matrix and compute cosine similarities between book descriptions. Finally, recommendations for a selection of audiobooks are presented."
   ]
  },
  {
   "cell_type": "markdown",
   "metadata": {},
   "source": [
    "First, let's import relevant libraries."
   ]
  },
  {
   "cell_type": "code",
   "execution_count": 1,
   "metadata": {
    "collapsed": false
   },
   "outputs": [],
   "source": [
    "import pandas as pd # import data manipulation and analysis library\n",
    "import re # import regular expression library\n",
    "import requests # import HTTP/HTTPS request library\n",
    "\n",
    "from bs4 import BeautifulSoup # parsing\n",
    "from IPython.display import display, HTML # display\n",
    "from sklearn.feature_extraction.text import TfidfVectorizer # TF–IDF matrix creation\n",
    "from sklearn.metrics.pairwise import linear_kernel # linear kernel"
   ]
  },
  {
   "cell_type": "markdown",
   "metadata": {},
   "source": [
    "The audiobook catalog is then queried through the Librivox API."
   ]
  },
  {
   "cell_type": "code",
   "execution_count": 2,
   "metadata": {
    "collapsed": false
   },
   "outputs": [
    {
     "name": "stdout",
     "output_type": "stream",
     "text": [
      "(14069, 15)\n"
     ]
    },
    {
     "data": {
      "text/html": [
       "<div>\n",
       "<style scoped>\n",
       "    .dataframe tbody tr th:only-of-type {\n",
       "        vertical-align: middle;\n",
       "    }\n",
       "\n",
       "    .dataframe tbody tr th {\n",
       "        vertical-align: top;\n",
       "    }\n",
       "\n",
       "    .dataframe thead th {\n",
       "        text-align: right;\n",
       "    }\n",
       "</style>\n",
       "<table border=\"1\" class=\"dataframe\">\n",
       "  <thead>\n",
       "    <tr style=\"text-align: right;\">\n",
       "      <th></th>\n",
       "      <th>authors</th>\n",
       "      <th>copyright_year</th>\n",
       "      <th>description</th>\n",
       "      <th>id</th>\n",
       "      <th>language</th>\n",
       "      <th>num_sections</th>\n",
       "      <th>title</th>\n",
       "      <th>totaltime</th>\n",
       "      <th>totaltimesecs</th>\n",
       "      <th>url_librivox</th>\n",
       "      <th>url_other</th>\n",
       "      <th>url_project</th>\n",
       "      <th>url_rss</th>\n",
       "      <th>url_text_source</th>\n",
       "      <th>url_zip_file</th>\n",
       "    </tr>\n",
       "  </thead>\n",
       "  <tbody>\n",
       "    <tr>\n",
       "      <th>0</th>\n",
       "      <td>[{'first_name': 'Alexandre', 'dod': '1870', 'l...</td>\n",
       "      <td>1844</td>\n",
       "      <td>&lt;p&gt;&lt;i&gt;The Count of Monte Cristo&lt;/i&gt; (French: &lt;...</td>\n",
       "      <td>47</td>\n",
       "      <td>English</td>\n",
       "      <td>128</td>\n",
       "      <td>Count of Monte Cristo</td>\n",
       "      <td>49:43:15</td>\n",
       "      <td>178995</td>\n",
       "      <td>https://librivox.org/the-count-of-monte-cristo...</td>\n",
       "      <td>None</td>\n",
       "      <td>http://en.wikipedia.org/wiki/Count_of_Monte_Cr...</td>\n",
       "      <td>https://librivox.org/rss/47</td>\n",
       "      <td>http://www.gutenberg.org/etext/1184</td>\n",
       "      <td>http://www.archive.org/download/count_monte_cr...</td>\n",
       "    </tr>\n",
       "  </tbody>\n",
       "</table>\n",
       "</div>"
      ],
      "text/plain": [
       "                                             authors copyright_year  \\\n",
       "0  [{'first_name': 'Alexandre', 'dod': '1870', 'l...           1844   \n",
       "\n",
       "                                         description  id language  \\\n",
       "0  <p><i>The Count of Monte Cristo</i> (French: <...  47  English   \n",
       "\n",
       "  num_sections                  title totaltime  totaltimesecs  \\\n",
       "0          128  Count of Monte Cristo  49:43:15         178995   \n",
       "\n",
       "                                        url_librivox url_other  \\\n",
       "0  https://librivox.org/the-count-of-monte-cristo...      None   \n",
       "\n",
       "                                         url_project  \\\n",
       "0  http://en.wikipedia.org/wiki/Count_of_Monte_Cr...   \n",
       "\n",
       "                       url_rss                      url_text_source  \\\n",
       "0  https://librivox.org/rss/47  http://www.gutenberg.org/etext/1184   \n",
       "\n",
       "                                        url_zip_file  \n",
       "0  http://www.archive.org/download/count_monte_cr...  "
      ]
     },
     "execution_count": 2,
     "metadata": {},
     "output_type": "execute_result"
    }
   ],
   "source": [
    "df = pd.DataFrame() # create empty df\n",
    "data = {} # create empty dictionary\n",
    "\n",
    "for offset in range(0, 1000000, 1000): # for offset 0, 1000, 2000...\n",
    "\n",
    "    URL = str('https://librivox.org/api/feed/audiobooks/limit/1000/offset/'+str(offset)+'/format/json') # URL\n",
    "    data = requests.get(URL).json() # retrieve data\n",
    "\n",
    "    if data != {'error': 'Audiobooks could not be found'}: # unless no data\n",
    "        df = df.append(data['books'], ignore_index=True) # append data\n",
    "        \n",
    "    else: # when no more data\n",
    "        break # stop iterating\n",
    "\n",
    "print(df.shape) # print (rows, columns)\n",
    "df.head(1) # print first row"
   ]
  },
  {
   "cell_type": "markdown",
   "metadata": {},
   "source": [
    "Next, the catalog is cleaned and reformatted."
   ]
  },
  {
   "cell_type": "code",
   "execution_count": 3,
   "metadata": {
    "collapsed": false
   },
   "outputs": [
    {
     "name": "stdout",
     "output_type": "stream",
     "text": [
      "(11721, 4)\n"
     ]
    },
    {
     "data": {
      "text/html": [
       "<div>\n",
       "<style scoped>\n",
       "    .dataframe tbody tr th:only-of-type {\n",
       "        vertical-align: middle;\n",
       "    }\n",
       "\n",
       "    .dataframe tbody tr th {\n",
       "        vertical-align: top;\n",
       "    }\n",
       "\n",
       "    .dataframe thead th {\n",
       "        text-align: right;\n",
       "    }\n",
       "</style>\n",
       "<table border=\"1\" class=\"dataframe\">\n",
       "  <thead>\n",
       "    <tr style=\"text-align: right;\">\n",
       "      <th></th>\n",
       "      <th>title</th>\n",
       "      <th>authors</th>\n",
       "      <th>description</th>\n",
       "      <th>url_librivox</th>\n",
       "    </tr>\n",
       "  </thead>\n",
       "  <tbody>\n",
       "    <tr>\n",
       "      <th>0</th>\n",
       "      <td>Count of Monte Cristo</td>\n",
       "      <td>Alexandre Dumas (1802-1870)</td>\n",
       "      <td>The Count of Monte Cristo (French: Le Comte de...</td>\n",
       "      <td>https://librivox.org/the-count-of-monte-cristo...</td>\n",
       "    </tr>\n",
       "  </tbody>\n",
       "</table>\n",
       "</div>"
      ],
      "text/plain": [
       "                   title                      authors  \\\n",
       "0  Count of Monte Cristo  Alexandre Dumas (1802-1870)   \n",
       "\n",
       "                                         description  \\\n",
       "0  The Count of Monte Cristo (French: Le Comte de...   \n",
       "\n",
       "                                        url_librivox  \n",
       "0  https://librivox.org/the-count-of-monte-cristo...  "
      ]
     },
     "execution_count": 3,
     "metadata": {},
     "output_type": "execute_result"
    }
   ],
   "source": [
    "df = df[df['language']=='English'] # retain audiobooks in English\n",
    "df = df[df['url_librivox']!=''] # remove audiobooks not yet released\n",
    "df['description'] = df['description'].str.replace('\\n', '') # remove \\n\n",
    "df['description'] = [re.sub('\\<.*?\\>', '', i) for i in df.description] # remove <...> tags\n",
    "\n",
    "authors_new = [] # create empty list\n",
    "\n",
    "for row in df.index: # for each row\n",
    "\n",
    "    authors = '' # create empty string\n",
    "\n",
    "    for author_index in range(len(df['authors'][row])): # for every author in authors\n",
    "        temp = df['authors'][row][author_index] # select author\n",
    "        temp = str(temp['first_name']+' '+temp['last_name']+' (' + str(temp['dob']) + '-' + str(temp['dod']) + ')')\n",
    "        if author_index > 0: # if more than 1 author\n",
    "            authors += ', ' # add ', ' between authors\n",
    "        authors += temp.strip() # add trimmed author string to string\n",
    "\n",
    "    authors_new.append(authors) # append formatted author name(s) to list\n",
    "\n",
    "df['authors'] = authors_new # update column values\n",
    "\n",
    "df = df[['title', 'authors', 'description', 'url_librivox']] # retain relevant columns\n",
    "df.to_csv('librivox_catalog_english.csv', index=False, encoding='utf-8-sig') # save to csv\n",
    "\n",
    "print(df.shape) # print (rows, columns)\n",
    "df.head(1) # print first row"
   ]
  },
  {
   "cell_type": "markdown",
   "metadata": {},
   "source": [
    "An additional column is then created, containing the audiobook description, lowercased and rid of punctuation, numbers and noise."
   ]
  },
  {
   "cell_type": "code",
   "execution_count": 4,
   "metadata": {
    "collapsed": false
   },
   "outputs": [
    {
     "name": "stdout",
     "output_type": "stream",
     "text": [
      "(11721, 5)\n"
     ]
    },
    {
     "data": {
      "text/html": [
       "<div>\n",
       "<style scoped>\n",
       "    .dataframe tbody tr th:only-of-type {\n",
       "        vertical-align: middle;\n",
       "    }\n",
       "\n",
       "    .dataframe tbody tr th {\n",
       "        vertical-align: top;\n",
       "    }\n",
       "\n",
       "    .dataframe thead th {\n",
       "        text-align: right;\n",
       "    }\n",
       "</style>\n",
       "<table border=\"1\" class=\"dataframe\">\n",
       "  <thead>\n",
       "    <tr style=\"text-align: right;\">\n",
       "      <th></th>\n",
       "      <th>title</th>\n",
       "      <th>authors</th>\n",
       "      <th>description</th>\n",
       "      <th>url_librivox</th>\n",
       "      <th>description_clean</th>\n",
       "    </tr>\n",
       "  </thead>\n",
       "  <tbody>\n",
       "    <tr>\n",
       "      <th>0</th>\n",
       "      <td>Count of Monte Cristo</td>\n",
       "      <td>Alexandre Dumas (1802-1870)</td>\n",
       "      <td>The Count of Monte Cristo (French: Le Comte de...</td>\n",
       "      <td>https://librivox.org/the-count-of-monte-cristo...</td>\n",
       "      <td>the count of monte cristo french le comte de m...</td>\n",
       "    </tr>\n",
       "  </tbody>\n",
       "</table>\n",
       "</div>"
      ],
      "text/plain": [
       "                   title                      authors  \\\n",
       "0  Count of Monte Cristo  Alexandre Dumas (1802-1870)   \n",
       "\n",
       "                                         description  \\\n",
       "0  The Count of Monte Cristo (French: Le Comte de...   \n",
       "\n",
       "                                        url_librivox  \\\n",
       "0  https://librivox.org/the-count-of-monte-cristo...   \n",
       "\n",
       "                                   description_clean  \n",
       "0  the count of monte cristo french le comte de m...  "
      ]
     },
     "execution_count": 4,
     "metadata": {},
     "output_type": "execute_result"
    }
   ],
   "source": [
    "df['description_clean'] = [re.sub(r'[^a-zA-Z\\s]', '', i) for i in df.description] # retain alphabetical characters\n",
    "df['description_clean'] = [i.lower() for i in df['description_clean']] # lowercase all words\n",
    "\n",
    "librivox_noise = [\"librivox volunteers bring you\", \"recordings of\", \"this was the\",\n",
    "                  \"fortnightly\", \"weekly\", \"poetry project for\"] # define librivox specific noise\n",
    "\n",
    "for noise in librivox_noise: # for each noisy substring\n",
    "    df[\"description_clean\"] = df[\"description_clean\"].str.replace(noise, \"\") # remove substring\n",
    "\n",
    "df.reset_index(inplace=True, drop=True) # reset df index\n",
    "\n",
    "print(df.shape) # print (rows, columns)\n",
    "df.head(1) # print first row"
   ]
  },
  {
   "cell_type": "markdown",
   "metadata": {},
   "source": [
    "Using this new column, a TF–IDF (Term Frequency–Inverse Document Frequency) matrix is created.\n",
    "\n",
    "In this matrix, values associated with each word/group of words (column) within each audiobook description (row) represent how informative each word/group of words is in the context of the corpus – that is, all audiobook descriptions taken together, while ensuring the length of individual descriptions does not influence values."
   ]
  },
  {
   "cell_type": "code",
   "execution_count": 5,
   "metadata": {
    "collapsed": false
   },
   "outputs": [
    {
     "name": "stdout",
     "output_type": "stream",
     "text": [
      "(11721, 497218)\n"
     ]
    },
    {
     "data": {
      "text/plain": [
       "matrix([[0., 0., 0., ..., 0., 0., 0.]])"
      ]
     },
     "execution_count": 5,
     "metadata": {},
     "output_type": "execute_result"
    }
   ],
   "source": [
    "tfidf = TfidfVectorizer( # initialise TF–IDF vectorizer\n",
    "                        analyzer='word', # use word-based tokens\n",
    "                        ngram_range=(1, 2), # using tokens and bigrams\n",
    "                        stop_words='english') # remove stop words\n",
    "\n",
    "tfidf_matrix = tfidf.fit_transform(df['description_clean']) # fit and transform\n",
    "\n",
    "print(tfidf_matrix.get_shape()) # print (rows, columns)\n",
    "tfidf_matrix[0].todense() # print first row"
   ]
  },
  {
   "cell_type": "markdown",
   "metadata": {},
   "source": [
    "Using the TF–IDF matrix, the code computes cosine similarities and measures how similar two descriptions are to each other."
   ]
  },
  {
   "cell_type": "code",
   "execution_count": 6,
   "metadata": {
    "collapsed": false
   },
   "outputs": [
    {
     "name": "stdout",
     "output_type": "stream",
     "text": [
      "(11721, 11721)\n"
     ]
    },
    {
     "data": {
      "text/plain": [
       "array([1.        , 0.00121067, 0.01772197, ..., 0.00465328, 0.00563491,\n",
       "       0.00563491])"
      ]
     },
     "execution_count": 6,
     "metadata": {},
     "output_type": "execute_result"
    }
   ],
   "source": [
    "cosine_similarities = linear_kernel(tfidf_matrix, tfidf_matrix) # compute cosine similarities\n",
    "\n",
    "print(cosine_similarities.shape) # print (rows, columns)\n",
    "cosine_similarities[0] # print first row"
   ]
  },
  {
   "cell_type": "markdown",
   "metadata": {},
   "source": [
    "Now, let's define a function to visualise recommendations."
   ]
  },
  {
   "cell_type": "code",
   "execution_count": 7,
   "metadata": {
    "collapsed": false
   },
   "outputs": [],
   "source": [
    "def visualise_recommendations(df_audiobook_id): # define function\n",
    "    \n",
    "    recommendation_indices = cosine_similarities[df_audiobook_id].argsort()[-2:-5:-1] # 3 most similar books\n",
    "    recommendations = df.iloc[recommendation_indices].copy() # create df\n",
    "    recommendations.reset_index(inplace=True, drop=True) # reset df index\n",
    "    \n",
    "    for i in range(3): # for each recommendation\n",
    "        data = requests.get(recommendations.url_librivox[i]) # retrieve webpage\n",
    "        soup = BeautifulSoup(data.text, \"lxml\") # parse it\n",
    "        temp_images = str(soup.find_all(class_='book-page-book-cover')) # retrieve illustration section\n",
    "        temp_image = temp_images[temp_images.find('src=')+5:temp_images.find('\\\" width=')] # retrieve URL\n",
    "        recommendations.loc[i, 'image'] = temp_image # store URL to audiobook cover\n",
    "    \n",
    "    for i in range(3): # for each recommendation\n",
    "        if len(recommendations.loc[i, 'description']) > 500: # reformat long strings\n",
    "            recommendations.loc[i, 'description'] = recommendations.loc[i, 'description'][0:500]+'...'\n",
    "    \n",
    "    display(HTML(\"\\\n",
    "    <table style='border: none;'>\\\n",
    "        <tr style='border: none;'>\\\n",
    "            <td style='width: 200px; border: none; vertical-align: top'>\\\n",
    "            <br><img src='\"+recommendations.image[0]+\"'<br>\\\n",
    "            </td>\\\n",
    "            <td style='width: 50px; border: none;'>\\\n",
    "            </td>\\\n",
    "            <td style='width: 600px; border: none; vertical-align: top; text-align:justify'>\\\n",
    "            <br><br>\\\n",
    "            <a href='\"+recommendations.url_librivox[0]+\"'>\"+recommendations.title[0]+\"</a>\"+\n",
    "            \", by \"+recommendations.authors[0]+\"\\\n",
    "            <br><br>\"+recommendations.description[0]+\"<br><br>\\\n",
    "            </td>\\\n",
    "        </tr>\\\n",
    "        <tr style='border: none;'>\\\n",
    "            <td style='width: 200px; border: none; vertical-align: top'>\\\n",
    "            <br><img src='\"+recommendations.image[1]+\"'<br>\\\n",
    "            </td>\\\n",
    "            <td style='width: 50px; border: none;'>\\\n",
    "            </td>\\\n",
    "            <td style='width: 600px; border: none; vertical-align: top; text-align:justify'>\\\n",
    "            <br><br>\\\n",
    "            <a href='\"+recommendations.url_librivox[1]+\"'>\"+recommendations.title[1]+\"</a>\"+\n",
    "            \", by \"+recommendations.authors[1]+\"\\\n",
    "            <br><br>\"+recommendations.description[1]+\"<br><br>\\\n",
    "            </td>\\\n",
    "        </tr>\\\n",
    "        <tr style='border: none;'>\\\n",
    "            <td style='width: 200px; border: none; vertical-align: top'>\\\n",
    "            <br><img src='\"+recommendations.image[2]+\"'<br>\\\n",
    "            </td>\\\n",
    "            <td style='width: 50px; border: none;'>\\\n",
    "            </td>\\\n",
    "            <td style='width: 600px; border: none; vertical-align: top; text-align:justify'>\\\n",
    "            <br><br>\\\n",
    "            <a href='\"+recommendations.url_librivox[2]+\"'>\"+recommendations.title[2]+\"</a>\"+\n",
    "            \", by \"+recommendations.authors[2]+\"\\\n",
    "            <br><br>\"+recommendations.description[2]+\"<br><br>\\\n",
    "            </td>\\\n",
    "        </tr>\\\n",
    "    </table>\\\n",
    "    \")) # display results in HTML format"
   ]
  },
  {
   "cell_type": "markdown",
   "metadata": {},
   "source": [
    "The first example we take is a collection of short horror stories (https://librivox.org/seven-h-p-lovecraft-stories-by-h-p-lovecraft/) by American author Howard Phillips Lovecraft (1890-1937). It results in the following recommendations."
   ]
  },
  {
   "cell_type": "code",
   "execution_count": 8,
   "metadata": {
    "collapsed": false
   },
   "outputs": [
    {
     "data": {
      "text/html": [
       "    <table style='border: none;'>        <tr style='border: none;'>            <td style='width: 200px; border: none; vertical-align: top'>            <br><img src='https://archive.org/download/lovecrafts_influences_1912_librivox/lovecrafts_influences_1912.jpg'<br>            </td>            <td style='width: 50px; border: none;'>            </td>            <td style='width: 600px; border: none; vertical-align: top; text-align:justify'>            <br><br>            <a href='https://librivox.org/lovecrafts-influences-and-favorites-by-various/'>Lovecraft's Influences and Favorites</a>, by Various (-)            <br><br>In 1927, H. P. Lovecraft wrote a long essay on \"Supernatural Horror in Literature\" in which he discussed the history of what came to be known as Weird Fiction.  This collection includes many of the texts that Lovecraft mentioned in the essay, beginning with Edgar Allan Poe's Fall of the House of Usher, published in 1839 and ending with Walter de la Mare Seaton's Aunt from 1922.  Included are 19 stories and 1 poem. - Summary by Alan Winterrowd<br><br>            </td>        </tr>        <tr style='border: none;'>            <td style='width: 200px; border: none; vertical-align: top'>            <br><img src='https://archive.org/download/LibrivoxCdCoverArt33/Willows_1311.jpg'<br>            </td>            <td style='width: 50px; border: none;'>            </td>            <td style='width: 600px; border: none; vertical-align: top; text-align:justify'>            <br><br>            <a href='https://librivox.org/the-willows-by-algernon-blackwood-2/'>Willows (version 2)</a>, by Algernon Blackwood (1869-1951)            <br><br>\"The Willows\" is one of Algernon Blackwood's best known creepy stories. American horror author H.P. Lovecraft considered it to be the finest supernatural tale in English literature. He wrote in his treatise \"Supernatural Horror in Literature\", \"Here art and restraint in narrative reach their very highest development, and an impression of lasting poignancy is produced without a single strained passage or a single false note.\"  \"The Willows\" is an example of early modern horror and is connected wi...<br><br>            </td>        </tr>        <tr style='border: none;'>            <td style='width: 200px; border: none; vertical-align: top'>            <br><img src='https://archive.org/download/librivoxcdcoverart34/poemscline_1808.jpg'<br>            </td>            <td style='width: 50px; border: none;'>            </td>            <td style='width: 600px; border: none; vertical-align: top; text-align:justify'>            <br><br>            <a href='https://librivox.org/poems-by-leonard-cline/'>Poems</a>, by Leonard Cline (1893-1929)            <br><br>This is the first published volume of poetry by notable American journalist and author of horror stories Leonard Lanson Cline. These poems were published when Cline was only 21 years old, but the talent that would lead HP Lovecraft to admire his work is already clearly visible.  - Summary by Carolin<br><br>            </td>        </tr>    </table>    "
      ],
      "text/plain": [
       "<IPython.core.display.HTML object>"
      ]
     },
     "metadata": {},
     "output_type": "display_data"
    }
   ],
   "source": [
    "visualise_recommendations(6166) # call function"
   ]
  },
  {
   "cell_type": "markdown",
   "metadata": {},
   "source": [
    "Then, we look at the poetry of Robert Frost (1874-1963) and more precisely at his 1916 poetry collection 'Mountain Interval' (https://librivox.org/mountain-interval-by-robert-frost-2/)."
   ]
  },
  {
   "cell_type": "code",
   "execution_count": 9,
   "metadata": {
    "collapsed": false
   },
   "outputs": [
    {
     "data": {
      "text/html": [
       "    <table style='border: none;'>        <tr style='border: none;'>            <td style='width: 200px; border: none; vertical-align: top'>            <br><img src='http://archive.org/download/LibrivoxCdCoverArt23/Birches_1210.jpg'<br>            </td>            <td style='width: 50px; border: none;'>            </td>            <td style='width: 600px; border: none; vertical-align: top; text-align:justify'>            <br><br>            <a href='https://librivox.org/birches-by-robert-frost/'>Birches</a>, by Robert Frost (1874-1963)            <br><br>LibriVox volunteers bring you 12 recordings of Birches by Robert Frost. This was the Fortnightly Poetry project for February 21st, 2010.<br><br>            </td>        </tr>        <tr style='border: none;'>            <td style='width: 200px; border: none; vertical-align: top'>            <br><img src='https://archive.org/download/newhampshire_1902_librivox/newhampshire_1902.jpg'<br>            </td>            <td style='width: 50px; border: none;'>            </td>            <td style='width: 600px; border: none; vertical-align: top; text-align:justify'>            <br><br>            <a href='https://librivox.org/new-hampshire-a-poem-with-notes-and-grace-notes-by-robert-frost/'>New Hampshire - A Poem with Notes and Grace Notes</a>, by Robert Frost (1874-1963)            <br><br>New Hampshire is a volume of poems written by Robert Frost, for which he received the Pulitzer Prize. The titular poem is the longest, and it has cross-references to 14 of the following poems. These are the \"Notes\" in the book title. The \"Grace Notes\" are the 30 final poems. Contained in this collection are some of Frost's best known works, such as \"Fire and Ice\", \"Nothing Gold Can Stay\", and \"Stopping by Woods on a Snowy Evening\". (Summary by TriciaG) <br><br>            </td>        </tr>        <tr style='border: none;'>            <td style='width: 200px; border: none; vertical-align: top'>            <br><img src='http://archive.org/download/LibrivoxCdCoverArt32/Hillside_Thaw_1307.jpg'<br>            </td>            <td style='width: 50px; border: none;'>            </td>            <td style='width: 600px; border: none; vertical-align: top; text-align:justify'>            <br><br>            <a href='https://librivox.org/the-hillside-thaw-by-robert-frost/'>Hillside Thaw</a>, by Robert Frost (1874-1963)            <br><br>LibriVox volunteers bring you 10 recordings of The Hillside Thaw by Robert Frost. This was the Fortnightly Poetry project for May 5th, 2013.<br><br>            </td>        </tr>    </table>    "
      ],
      "text/plain": [
       "<IPython.core.display.HTML object>"
      ]
     },
     "metadata": {},
     "output_type": "display_data"
    }
   ],
   "source": [
    "visualise_recommendations(10316) # call function"
   ]
  },
  {
   "cell_type": "markdown",
   "metadata": {},
   "source": [
    "Finally, let's look at recommendations for the story of a mysterious castle. Written by Jules Verne (1828-1905), the book is entitled 'Castle of the Carpathians' (https://librivox.org/the-castle-of-the-carpathians-by-jules-verne/)."
   ]
  },
  {
   "cell_type": "code",
   "execution_count": 10,
   "metadata": {
    "collapsed": false
   },
   "outputs": [
    {
     "data": {
      "text/html": [
       "    <table style='border: none;'>        <tr style='border: none;'>            <td style='width: 200px; border: none; vertical-align: top'>            <br><img src='http://www.archive.org/download//carmilla_1903_librivox/carmilla_1903.jpg'<br>            </td>            <td style='width: 50px; border: none;'>            </td>            <td style='width: 600px; border: none; vertical-align: top; text-align:justify'>            <br><br>            <a href='https://librivox.org/carmilla-by-joseph-sheridan-le-fanu/'>Carmilla (Version 2)</a>, by Joseph Sheridan Le Fanu (1814-1873)            <br><br>Laura grew up on a castle in the Austrian mountains with her father, slightly lonely as there are no potential companions around. Her loneliness is at an end when a carriage accindent close by their castle brings a mysterious visitor: Carmilla was injured in the accident, and remains at the castle to heal. But there is something dark about Carmilla. Is Laura in danger? - Summary by Carolin<br><br>            </td>        </tr>        <tr style='border: none;'>            <td style='width: 200px; border: none; vertical-align: top'>            <br><img src='https://archive.org/download/laodicean_1505_librivox/Laodicean_1506.jpg'<br>            </td>            <td style='width: 50px; border: none;'>            </td>            <td style='width: 600px; border: none; vertical-align: top; text-align:justify'>            <br><br>            <a href='https://librivox.org/a-laodicean-by-thomas-hardy/'>Laodicean</a>, by Thomas Hardy (1840-1928)            <br><br>The Laodicean (someone whose religious beliefs are “lukewarm”) of the title is Paula Power who bought the ancient castle De Stancy which she is determined to restore. Being of a modern frame of mind, she has the telegraph connected to the castle – and uses it all the time in the course of the story.George Somerset is a young architect who is invited to compete for the chance of the commission to restore the castle and who falls in love with Paula.However, the brother of Paula’s great friend Char...<br><br>            </td>        </tr>        <tr style='border: none;'>            <td style='width: 200px; border: none; vertical-align: top'>            <br><img src='http://www.archive.org/download/LibrivoxCdCoverArt16/Mysteries_Udolpho_1204.jpg'<br>            </td>            <td style='width: 50px; border: none;'>            </td>            <td style='width: 600px; border: none; vertical-align: top; text-align:justify'>            <br><br>            <a href='https://librivox.org/mysteries-of-udolpho-by-ann-radcliffe/'>Mysteries of Udolpho</a>, by Ann Radcliffe (1764-1823)            <br><br>Considered a change agent in early Gothic romance; oft-referenced in later literary works or paid homage to by such authors as Jane Austen (influential novel ready by her heroine, Catherine Morland, in Northanger Abbey); Edgar Allen Poe (borrowed plot elements for the short story The Oval Portrait); and Sir Walter Scott. - In The Mysteries of Udolpho, one of the most famous and popular gothic novels of the eighteenth century, Ann Radcliffe took a new tack from her predecessors and portrayed her ...<br><br>            </td>        </tr>    </table>    "
      ],
      "text/plain": [
       "<IPython.core.display.HTML object>"
      ]
     },
     "metadata": {},
     "output_type": "display_data"
    }
   ],
   "source": [
    "visualise_recommendations(10480) # call function"
   ]
  }
 ],
 "metadata": {
  "anaconda-cloud": {},
  "kernelspec": {
   "display_name": "Python [conda root]",
   "language": "python",
   "name": "conda-root-py"
  },
  "language_info": {
   "codemirror_mode": {
    "name": "ipython",
    "version": 3
   },
   "file_extension": ".py",
   "mimetype": "text/x-python",
   "name": "python",
   "nbconvert_exporter": "python",
   "pygments_lexer": "ipython3",
   "version": "3.5.6"
  }
 },
 "nbformat": 4,
 "nbformat_minor": 1
}
